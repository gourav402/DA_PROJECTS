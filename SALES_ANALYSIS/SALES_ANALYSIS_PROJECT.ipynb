{
 "cells": [
  {
   "cell_type": "code",
   "execution_count": 1,
   "id": "307cbe75-e2fb-4cfa-bc75-d432f1068770",
   "metadata": {},
   "outputs": [],
   "source": [
    "import pandas as pd\n",
    "import os\n",
    "import matplotlib.pyplot as plt\n",
    "import seaborn as sns\n",
    "import warnings\n",
    "warnings.filterwarnings('ignore')"
   ]
  },
  {
   "cell_type": "code",
   "execution_count": 2,
   "id": "8e1630c4-cd28-4957-b8ec-e09df6457c62",
   "metadata": {},
   "outputs": [],
   "source": [
    "# MERGING 12 MONTHS FILE INTO 1 CSV FILE\n",
    "all_month_files = pd.DataFrame()\n",
    "for i in os.listdir(r\"C:\\Users\\gaurav\\PROJECTS\\D_A\\SALES_ANALYSIS\\Sales_Dataset\"):\n",
    "    df = pd.read_csv(f\"C:\\\\Users\\\\gaurav\\\\PROJECTS\\\\D_A\\\\SALES_ANALYSIS\\\\Sales_Dataset\\\\{i}\")\n",
    "    all_month_files= pd.concat([all_month_files,df])\n",
    "\n",
    "\n",
    "all_month_files.to_csv(r\"C:\\Users\\gaurav\\PROJECTS\\D_A\\SALES_ANALYSIS\\Sales_Dataset\\all_months_combine_file.csv\")"
   ]
  },
  {
   "cell_type": "code",
   "execution_count": 3,
   "id": "851b6d7f-3828-4783-abc5-1aee249fe0df",
   "metadata": {},
   "outputs": [
    {
     "data": {
      "text/html": [
       "<div>\n",
       "<style scoped>\n",
       "    .dataframe tbody tr th:only-of-type {\n",
       "        vertical-align: middle;\n",
       "    }\n",
       "\n",
       "    .dataframe tbody tr th {\n",
       "        vertical-align: top;\n",
       "    }\n",
       "\n",
       "    .dataframe thead th {\n",
       "        text-align: right;\n",
       "    }\n",
       "</style>\n",
       "<table border=\"1\" class=\"dataframe\">\n",
       "  <thead>\n",
       "    <tr style=\"text-align: right;\">\n",
       "      <th></th>\n",
       "      <th>Order ID</th>\n",
       "      <th>Product</th>\n",
       "      <th>Quantity Ordered</th>\n",
       "      <th>Price Each</th>\n",
       "      <th>Order Date</th>\n",
       "      <th>Purchase Address</th>\n",
       "    </tr>\n",
       "  </thead>\n",
       "  <tbody>\n",
       "    <tr>\n",
       "      <th>0</th>\n",
       "      <td>176558</td>\n",
       "      <td>USB-C Charging Cable</td>\n",
       "      <td>2</td>\n",
       "      <td>11.95</td>\n",
       "      <td>04/19/19 08:46</td>\n",
       "      <td>917 1st St, Dallas, TX 75001</td>\n",
       "    </tr>\n",
       "    <tr>\n",
       "      <th>1</th>\n",
       "      <td>NaN</td>\n",
       "      <td>NaN</td>\n",
       "      <td>NaN</td>\n",
       "      <td>NaN</td>\n",
       "      <td>NaN</td>\n",
       "      <td>NaN</td>\n",
       "    </tr>\n",
       "    <tr>\n",
       "      <th>2</th>\n",
       "      <td>176559</td>\n",
       "      <td>Bose SoundSport Headphones</td>\n",
       "      <td>1</td>\n",
       "      <td>99.99</td>\n",
       "      <td>04/07/19 22:30</td>\n",
       "      <td>682 Chestnut St, Boston, MA 02215</td>\n",
       "    </tr>\n",
       "    <tr>\n",
       "      <th>3</th>\n",
       "      <td>176560</td>\n",
       "      <td>Google Phone</td>\n",
       "      <td>1</td>\n",
       "      <td>600</td>\n",
       "      <td>04/12/19 14:38</td>\n",
       "      <td>669 Spruce St, Los Angeles, CA 90001</td>\n",
       "    </tr>\n",
       "    <tr>\n",
       "      <th>4</th>\n",
       "      <td>176560</td>\n",
       "      <td>Wired Headphones</td>\n",
       "      <td>1</td>\n",
       "      <td>11.99</td>\n",
       "      <td>04/12/19 14:38</td>\n",
       "      <td>669 Spruce St, Los Angeles, CA 90001</td>\n",
       "    </tr>\n",
       "  </tbody>\n",
       "</table>\n",
       "</div>"
      ],
      "text/plain": [
       "  Order ID                     Product Quantity Ordered Price Each  \\\n",
       "0   176558        USB-C Charging Cable                2      11.95   \n",
       "1      NaN                         NaN              NaN        NaN   \n",
       "2   176559  Bose SoundSport Headphones                1      99.99   \n",
       "3   176560                Google Phone                1        600   \n",
       "4   176560            Wired Headphones                1      11.99   \n",
       "\n",
       "       Order Date                      Purchase Address  \n",
       "0  04/19/19 08:46          917 1st St, Dallas, TX 75001  \n",
       "1             NaN                                   NaN  \n",
       "2  04/07/19 22:30     682 Chestnut St, Boston, MA 02215  \n",
       "3  04/12/19 14:38  669 Spruce St, Los Angeles, CA 90001  \n",
       "4  04/12/19 14:38  669 Spruce St, Los Angeles, CA 90001  "
      ]
     },
     "execution_count": 3,
     "metadata": {},
     "output_type": "execute_result"
    }
   ],
   "source": [
    "all_month_files.head()"
   ]
  },
  {
   "cell_type": "code",
   "execution_count": 4,
   "id": "2bb83838-83d8-495f-81a6-6977ffb5a259",
   "metadata": {},
   "outputs": [
    {
     "data": {
      "text/plain": [
       "(186850, 6)"
      ]
     },
     "execution_count": 4,
     "metadata": {},
     "output_type": "execute_result"
    }
   ],
   "source": [
    "# ROWS AND COLUMNS\n",
    "all_month_files.shape"
   ]
  },
  {
   "cell_type": "code",
   "execution_count": 5,
   "id": "1bbb77db-404d-4e0f-9608-165d037b0477",
   "metadata": {},
   "outputs": [
    {
     "name": "stdout",
     "output_type": "stream",
     "text": [
      "<class 'pandas.core.frame.DataFrame'>\n",
      "Index: 186850 entries, 0 to 11685\n",
      "Data columns (total 6 columns):\n",
      " #   Column            Non-Null Count   Dtype \n",
      "---  ------            --------------   ----- \n",
      " 0   Order ID          186305 non-null  object\n",
      " 1   Product           186305 non-null  object\n",
      " 2   Quantity Ordered  186305 non-null  object\n",
      " 3   Price Each        186305 non-null  object\n",
      " 4   Order Date        186305 non-null  object\n",
      " 5   Purchase Address  186305 non-null  object\n",
      "dtypes: object(6)\n",
      "memory usage: 10.0+ MB\n"
     ]
    }
   ],
   "source": [
    "all_month_files.info()"
   ]
  },
  {
   "cell_type": "markdown",
   "id": "00a4365f-b4f2-4d88-b2e1-a5b4ee50d90b",
   "metadata": {},
   "source": [
    "# Cleaning up the data"
   ]
  },
  {
   "cell_type": "code",
   "execution_count": 6,
   "id": "346a03db-dce9-46c3-b6bc-349e46e45683",
   "metadata": {},
   "outputs": [
    {
     "data": {
      "text/plain": [
       "Order ID            545\n",
       "Product             545\n",
       "Quantity Ordered    545\n",
       "Price Each          545\n",
       "Order Date          545\n",
       "Purchase Address    545\n",
       "dtype: int64"
      ]
     },
     "execution_count": 6,
     "metadata": {},
     "output_type": "execute_result"
    }
   ],
   "source": [
    "all_month_files.isna().sum()"
   ]
  },
  {
   "cell_type": "code",
   "execution_count": 7,
   "id": "fa80895e-5c87-42b6-9cc9-f63aaf2072ac",
   "metadata": {},
   "outputs": [],
   "source": [
    "# DROPING NULL VALUES\n",
    "all_month_files.dropna(inplace=True)"
   ]
  },
  {
   "cell_type": "code",
   "execution_count": 8,
   "id": "f843ffbc-66f7-4b2d-9c3d-d1f7d186a43b",
   "metadata": {},
   "outputs": [
    {
     "data": {
      "text/plain": [
       "Order ID            0\n",
       "Product             0\n",
       "Quantity Ordered    0\n",
       "Price Each          0\n",
       "Order Date          0\n",
       "Purchase Address    0\n",
       "dtype: int64"
      ]
     },
     "execution_count": 8,
     "metadata": {},
     "output_type": "execute_result"
    }
   ],
   "source": [
    "all_month_files.isna().sum()"
   ]
  },
  {
   "cell_type": "code",
   "execution_count": 9,
   "id": "d674cacf-3ce4-4b36-9ac2-703511897d51",
   "metadata": {},
   "outputs": [
    {
     "data": {
      "text/html": [
       "<div>\n",
       "<style scoped>\n",
       "    .dataframe tbody tr th:only-of-type {\n",
       "        vertical-align: middle;\n",
       "    }\n",
       "\n",
       "    .dataframe tbody tr th {\n",
       "        vertical-align: top;\n",
       "    }\n",
       "\n",
       "    .dataframe thead th {\n",
       "        text-align: right;\n",
       "    }\n",
       "</style>\n",
       "<table border=\"1\" class=\"dataframe\">\n",
       "  <thead>\n",
       "    <tr style=\"text-align: right;\">\n",
       "      <th></th>\n",
       "      <th>Order ID</th>\n",
       "      <th>Product</th>\n",
       "      <th>Quantity Ordered</th>\n",
       "      <th>Price Each</th>\n",
       "      <th>Order Date</th>\n",
       "      <th>Purchase Address</th>\n",
       "    </tr>\n",
       "  </thead>\n",
       "  <tbody>\n",
       "    <tr>\n",
       "      <th>519</th>\n",
       "      <td>Order ID</td>\n",
       "      <td>Product</td>\n",
       "      <td>Quantity Ordered</td>\n",
       "      <td>Price Each</td>\n",
       "      <td>Order Date</td>\n",
       "      <td>Purchase Address</td>\n",
       "    </tr>\n",
       "    <tr>\n",
       "      <th>1149</th>\n",
       "      <td>Order ID</td>\n",
       "      <td>Product</td>\n",
       "      <td>Quantity Ordered</td>\n",
       "      <td>Price Each</td>\n",
       "      <td>Order Date</td>\n",
       "      <td>Purchase Address</td>\n",
       "    </tr>\n",
       "    <tr>\n",
       "      <th>1155</th>\n",
       "      <td>Order ID</td>\n",
       "      <td>Product</td>\n",
       "      <td>Quantity Ordered</td>\n",
       "      <td>Price Each</td>\n",
       "      <td>Order Date</td>\n",
       "      <td>Purchase Address</td>\n",
       "    </tr>\n",
       "    <tr>\n",
       "      <th>2878</th>\n",
       "      <td>Order ID</td>\n",
       "      <td>Product</td>\n",
       "      <td>Quantity Ordered</td>\n",
       "      <td>Price Each</td>\n",
       "      <td>Order Date</td>\n",
       "      <td>Purchase Address</td>\n",
       "    </tr>\n",
       "    <tr>\n",
       "      <th>2893</th>\n",
       "      <td>Order ID</td>\n",
       "      <td>Product</td>\n",
       "      <td>Quantity Ordered</td>\n",
       "      <td>Price Each</td>\n",
       "      <td>Order Date</td>\n",
       "      <td>Purchase Address</td>\n",
       "    </tr>\n",
       "    <tr>\n",
       "      <th>...</th>\n",
       "      <td>...</td>\n",
       "      <td>...</td>\n",
       "      <td>...</td>\n",
       "      <td>...</td>\n",
       "      <td>...</td>\n",
       "      <td>...</td>\n",
       "    </tr>\n",
       "    <tr>\n",
       "      <th>10000</th>\n",
       "      <td>Order ID</td>\n",
       "      <td>Product</td>\n",
       "      <td>Quantity Ordered</td>\n",
       "      <td>Price Each</td>\n",
       "      <td>Order Date</td>\n",
       "      <td>Purchase Address</td>\n",
       "    </tr>\n",
       "    <tr>\n",
       "      <th>10387</th>\n",
       "      <td>Order ID</td>\n",
       "      <td>Product</td>\n",
       "      <td>Quantity Ordered</td>\n",
       "      <td>Price Each</td>\n",
       "      <td>Order Date</td>\n",
       "      <td>Purchase Address</td>\n",
       "    </tr>\n",
       "    <tr>\n",
       "      <th>11399</th>\n",
       "      <td>Order ID</td>\n",
       "      <td>Product</td>\n",
       "      <td>Quantity Ordered</td>\n",
       "      <td>Price Each</td>\n",
       "      <td>Order Date</td>\n",
       "      <td>Purchase Address</td>\n",
       "    </tr>\n",
       "    <tr>\n",
       "      <th>11468</th>\n",
       "      <td>Order ID</td>\n",
       "      <td>Product</td>\n",
       "      <td>Quantity Ordered</td>\n",
       "      <td>Price Each</td>\n",
       "      <td>Order Date</td>\n",
       "      <td>Purchase Address</td>\n",
       "    </tr>\n",
       "    <tr>\n",
       "      <th>11574</th>\n",
       "      <td>Order ID</td>\n",
       "      <td>Product</td>\n",
       "      <td>Quantity Ordered</td>\n",
       "      <td>Price Each</td>\n",
       "      <td>Order Date</td>\n",
       "      <td>Purchase Address</td>\n",
       "    </tr>\n",
       "  </tbody>\n",
       "</table>\n",
       "<p>355 rows × 6 columns</p>\n",
       "</div>"
      ],
      "text/plain": [
       "       Order ID  Product  Quantity Ordered  Price Each  Order Date  \\\n",
       "519    Order ID  Product  Quantity Ordered  Price Each  Order Date   \n",
       "1149   Order ID  Product  Quantity Ordered  Price Each  Order Date   \n",
       "1155   Order ID  Product  Quantity Ordered  Price Each  Order Date   \n",
       "2878   Order ID  Product  Quantity Ordered  Price Each  Order Date   \n",
       "2893   Order ID  Product  Quantity Ordered  Price Each  Order Date   \n",
       "...         ...      ...               ...         ...         ...   \n",
       "10000  Order ID  Product  Quantity Ordered  Price Each  Order Date   \n",
       "10387  Order ID  Product  Quantity Ordered  Price Each  Order Date   \n",
       "11399  Order ID  Product  Quantity Ordered  Price Each  Order Date   \n",
       "11468  Order ID  Product  Quantity Ordered  Price Each  Order Date   \n",
       "11574  Order ID  Product  Quantity Ordered  Price Each  Order Date   \n",
       "\n",
       "       Purchase Address  \n",
       "519    Purchase Address  \n",
       "1149   Purchase Address  \n",
       "1155   Purchase Address  \n",
       "2878   Purchase Address  \n",
       "2893   Purchase Address  \n",
       "...                 ...  \n",
       "10000  Purchase Address  \n",
       "10387  Purchase Address  \n",
       "11399  Purchase Address  \n",
       "11468  Purchase Address  \n",
       "11574  Purchase Address  \n",
       "\n",
       "[355 rows x 6 columns]"
      ]
     },
     "execution_count": 9,
     "metadata": {},
     "output_type": "execute_result"
    }
   ],
   "source": [
    "temp_df = all_month_files[all_month_files['Order Date'].str[0:2] == 'Or']\n",
    "temp_df"
   ]
  },
  {
   "cell_type": "code",
   "execution_count": 10,
   "id": "2295b434-5470-47c2-8e59-045552eb11de",
   "metadata": {},
   "outputs": [],
   "source": [
    "# DROPING DUPLICATE VALUES\n",
    "all_month_files = all_month_files[all_month_files['Order Date'].str[0:2] != 'Or']\n"
   ]
  },
  {
   "cell_type": "markdown",
   "id": "80c3ce11-c62b-4750-9dc8-f2ba132eba20",
   "metadata": {},
   "source": [
    "## ADDING NEW COLUMN"
   ]
  },
  {
   "cell_type": "markdown",
   "id": "d1035578-8278-4af1-ac98-2603c1b68308",
   "metadata": {},
   "source": [
    "### MONTH"
   ]
  },
  {
   "cell_type": "code",
   "execution_count": 11,
   "id": "b0b1697b-c6c5-497b-96a2-8a8f7da2b267",
   "metadata": {},
   "outputs": [],
   "source": [
    "all_month_files['Month']= all_month_files['Order Date'].str[0:2]"
   ]
  },
  {
   "cell_type": "code",
   "execution_count": 12,
   "id": "1e0eecfb-0c63-4b0e-80e4-160471ed00ce",
   "metadata": {},
   "outputs": [],
   "source": [
    "all_month_files['Month']= all_month_files['Month'].astype('int')"
   ]
  },
  {
   "cell_type": "markdown",
   "id": "ab44179b-e588-4c7c-8907-ce5aa64e7f87",
   "metadata": {},
   "source": [
    "### SALES"
   ]
  },
  {
   "cell_type": "code",
   "execution_count": 13,
   "id": "c619c1c4-ad64-4654-8506-e01f5b796f38",
   "metadata": {},
   "outputs": [],
   "source": [
    "all_month_files['Price Each']= all_month_files['Price Each'].astype('float')\n",
    "all_month_files['Quantity Ordered']= all_month_files['Quantity Ordered'].astype('int')\n",
    "\n",
    "\n",
    "all_month_files['Sales'] =  all_month_files['Price Each'] * all_month_files['Quantity Ordered'] \n"
   ]
  },
  {
   "cell_type": "markdown",
   "id": "36002be7-968f-45b6-9417-25b74e264d01",
   "metadata": {},
   "source": [
    "### CITY"
   ]
  },
  {
   "cell_type": "code",
   "execution_count": 14,
   "id": "a0a2f330-6545-43a1-a004-65d8570508d2",
   "metadata": {},
   "outputs": [],
   "source": [
    "def get_city(address):\n",
    "    return address.split(',')[1]"
   ]
  },
  {
   "cell_type": "code",
   "execution_count": 15,
   "id": "b41bf03a-db68-46f5-bb3a-5927eaecc721",
   "metadata": {},
   "outputs": [],
   "source": [
    "def get_state(address):\n",
    "    return address.split(',')[2].split(' ')[1]"
   ]
  },
  {
   "cell_type": "code",
   "execution_count": 16,
   "id": "3c27d62b-9c27-4acd-adc2-8f45eae80a6e",
   "metadata": {},
   "outputs": [],
   "source": [
    "all_month_files['City']=all_month_files['Purchase Address'].apply( lambda x : f\"{get_city(x)} ({get_state(x)})\")"
   ]
  },
  {
   "cell_type": "markdown",
   "id": "f408b273-7bd4-437e-b2d8-e4666ed7d531",
   "metadata": {},
   "source": [
    "### HOUR"
   ]
  },
  {
   "cell_type": "code",
   "execution_count": 17,
   "id": "0b7b33f1-3168-4a15-952f-7dc99aeb00e2",
   "metadata": {},
   "outputs": [],
   "source": [
    "all_month_files['Order Date']= pd.to_datetime(all_month_files['Order Date'])\n",
    "\n",
    "\n",
    "all_month_files['Hour']= all_month_files['Order Date'].dt.hour"
   ]
  },
  {
   "cell_type": "markdown",
   "id": "d74303e1-846b-44a5-8336-b4397c77e3c7",
   "metadata": {},
   "source": [
    "### MINUTE"
   ]
  },
  {
   "cell_type": "code",
   "execution_count": 18,
   "id": "1d5e89dc-a298-4d7b-bac3-8654c8f43bf5",
   "metadata": {},
   "outputs": [],
   "source": [
    "all_month_files['Minute']= all_month_files['Order Date'].dt.minute"
   ]
  },
  {
   "cell_type": "markdown",
   "id": "51535e47-f7af-41d6-9ea1-6aaddfd8ee14",
   "metadata": {},
   "source": [
    "### Question 1: What was the best month for sales? How much was earned that month?"
   ]
  },
  {
   "cell_type": "code",
   "execution_count": 19,
   "id": "16f82c8c-f426-4335-9445-7538416a1471",
   "metadata": {},
   "outputs": [
    {
     "data": {
      "text/html": [
       "<div>\n",
       "<style scoped>\n",
       "    .dataframe tbody tr th:only-of-type {\n",
       "        vertical-align: middle;\n",
       "    }\n",
       "\n",
       "    .dataframe tbody tr th {\n",
       "        vertical-align: top;\n",
       "    }\n",
       "\n",
       "    .dataframe thead th {\n",
       "        text-align: right;\n",
       "    }\n",
       "</style>\n",
       "<table border=\"1\" class=\"dataframe\">\n",
       "  <thead>\n",
       "    <tr style=\"text-align: right;\">\n",
       "      <th></th>\n",
       "      <th>Month</th>\n",
       "      <th>Sales</th>\n",
       "    </tr>\n",
       "  </thead>\n",
       "  <tbody>\n",
       "    <tr>\n",
       "      <th>0</th>\n",
       "      <td>1</td>\n",
       "      <td>1822256.73</td>\n",
       "    </tr>\n",
       "    <tr>\n",
       "      <th>1</th>\n",
       "      <td>2</td>\n",
       "      <td>2202022.42</td>\n",
       "    </tr>\n",
       "    <tr>\n",
       "      <th>2</th>\n",
       "      <td>3</td>\n",
       "      <td>2807100.38</td>\n",
       "    </tr>\n",
       "    <tr>\n",
       "      <th>3</th>\n",
       "      <td>4</td>\n",
       "      <td>3390670.24</td>\n",
       "    </tr>\n",
       "    <tr>\n",
       "      <th>4</th>\n",
       "      <td>5</td>\n",
       "      <td>3152606.75</td>\n",
       "    </tr>\n",
       "    <tr>\n",
       "      <th>5</th>\n",
       "      <td>6</td>\n",
       "      <td>2577802.26</td>\n",
       "    </tr>\n",
       "    <tr>\n",
       "      <th>6</th>\n",
       "      <td>7</td>\n",
       "      <td>2647775.76</td>\n",
       "    </tr>\n",
       "    <tr>\n",
       "      <th>7</th>\n",
       "      <td>8</td>\n",
       "      <td>2244467.88</td>\n",
       "    </tr>\n",
       "    <tr>\n",
       "      <th>8</th>\n",
       "      <td>9</td>\n",
       "      <td>2097560.13</td>\n",
       "    </tr>\n",
       "    <tr>\n",
       "      <th>9</th>\n",
       "      <td>10</td>\n",
       "      <td>3736726.88</td>\n",
       "    </tr>\n",
       "    <tr>\n",
       "      <th>10</th>\n",
       "      <td>11</td>\n",
       "      <td>3199603.20</td>\n",
       "    </tr>\n",
       "    <tr>\n",
       "      <th>11</th>\n",
       "      <td>12</td>\n",
       "      <td>4613443.34</td>\n",
       "    </tr>\n",
       "  </tbody>\n",
       "</table>\n",
       "</div>"
      ],
      "text/plain": [
       "    Month       Sales\n",
       "0       1  1822256.73\n",
       "1       2  2202022.42\n",
       "2       3  2807100.38\n",
       "3       4  3390670.24\n",
       "4       5  3152606.75\n",
       "5       6  2577802.26\n",
       "6       7  2647775.76\n",
       "7       8  2244467.88\n",
       "8       9  2097560.13\n",
       "9      10  3736726.88\n",
       "10     11  3199603.20\n",
       "11     12  4613443.34"
      ]
     },
     "execution_count": 19,
     "metadata": {},
     "output_type": "execute_result"
    }
   ],
   "source": [
    "ax= all_month_files.groupby('Month',as_index=False)['Sales'].sum()\n",
    "ax"
   ]
  },
  {
   "cell_type": "code",
   "execution_count": 20,
   "id": "04a8d313-f95f-416c-a6a7-9cd163b8e07f",
   "metadata": {},
   "outputs": [
    {
     "data": {
      "image/png": "[encoded data removed]",
      "text/plain": [
       "<Figure size 640x480 with 1 Axes>"
      ]
     },
     "metadata": {},
     "output_type": "display_data"
    }
   ],
   "source": [
    "plt.bar(x='Month',height='Sales',data=ax)\n",
    "months = range(1,13)\n",
    "plt.xticks(months)\n",
    "plt.xlabel('Month Number')\n",
    "plt.show()"
   ]
  },
  {
   "cell_type": "markdown",
   "id": "fb57f464-d727-4060-a956-dac53a874aa2",
   "metadata": {},
   "source": [
    "#### December has the highest amount of sales which is 4613443.34 US Dollars"
   ]
  },
  {
   "cell_type": "markdown",
   "id": "4c28e545-c4e6-47bb-9d57-ce6fae6f766b",
   "metadata": {},
   "source": [
    "### Question 2: Which city has the highest number of sales?"
   ]
  },
  {
   "cell_type": "code",
   "execution_count": 21,
   "id": "7a410e0e-1c18-4099-8a21-2750a144646d",
   "metadata": {},
   "outputs": [
    {
     "data": {
      "text/html": [
       "<div>\n",
       "<style scoped>\n",
       "    .dataframe tbody tr th:only-of-type {\n",
       "        vertical-align: middle;\n",
       "    }\n",
       "\n",
       "    .dataframe tbody tr th {\n",
       "        vertical-align: top;\n",
       "    }\n",
       "\n",
       "    .dataframe thead th {\n",
       "        text-align: right;\n",
       "    }\n",
       "</style>\n",
       "<table border=\"1\" class=\"dataframe\">\n",
       "  <thead>\n",
       "    <tr style=\"text-align: right;\">\n",
       "      <th></th>\n",
       "      <th>City</th>\n",
       "      <th>Sales</th>\n",
       "    </tr>\n",
       "  </thead>\n",
       "  <tbody>\n",
       "    <tr>\n",
       "      <th>0</th>\n",
       "      <td>Atlanta (GA)</td>\n",
       "      <td>2795498.58</td>\n",
       "    </tr>\n",
       "    <tr>\n",
       "      <th>1</th>\n",
       "      <td>Austin (TX)</td>\n",
       "      <td>1819581.75</td>\n",
       "    </tr>\n",
       "    <tr>\n",
       "      <th>2</th>\n",
       "      <td>Boston (MA)</td>\n",
       "      <td>3661642.01</td>\n",
       "    </tr>\n",
       "    <tr>\n",
       "      <th>3</th>\n",
       "      <td>Dallas (TX)</td>\n",
       "      <td>2767975.40</td>\n",
       "    </tr>\n",
       "    <tr>\n",
       "      <th>4</th>\n",
       "      <td>Los Angeles (CA)</td>\n",
       "      <td>5452570.80</td>\n",
       "    </tr>\n",
       "    <tr>\n",
       "      <th>5</th>\n",
       "      <td>New York City (NY)</td>\n",
       "      <td>4664317.43</td>\n",
       "    </tr>\n",
       "    <tr>\n",
       "      <th>6</th>\n",
       "      <td>Portland (ME)</td>\n",
       "      <td>449758.27</td>\n",
       "    </tr>\n",
       "    <tr>\n",
       "      <th>7</th>\n",
       "      <td>Portland (OR)</td>\n",
       "      <td>1870732.34</td>\n",
       "    </tr>\n",
       "    <tr>\n",
       "      <th>8</th>\n",
       "      <td>San Francisco (CA)</td>\n",
       "      <td>8262203.91</td>\n",
       "    </tr>\n",
       "    <tr>\n",
       "      <th>9</th>\n",
       "      <td>Seattle (WA)</td>\n",
       "      <td>2747755.48</td>\n",
       "    </tr>\n",
       "  </tbody>\n",
       "</table>\n",
       "</div>"
      ],
      "text/plain": [
       "                  City       Sales\n",
       "0         Atlanta (GA)  2795498.58\n",
       "1          Austin (TX)  1819581.75\n",
       "2          Boston (MA)  3661642.01\n",
       "3          Dallas (TX)  2767975.40\n",
       "4     Los Angeles (CA)  5452570.80\n",
       "5   New York City (NY)  4664317.43\n",
       "6        Portland (ME)   449758.27\n",
       "7        Portland (OR)  1870732.34\n",
       "8   San Francisco (CA)  8262203.91\n",
       "9         Seattle (WA)  2747755.48"
      ]
     },
     "execution_count": 21,
     "metadata": {},
     "output_type": "execute_result"
    }
   ],
   "source": [
    "aa= all_month_files.groupby('City',as_index=False)['Sales'].sum()\n",
    "aa"
   ]
  },
  {
   "cell_type": "code",
   "execution_count": 22,
   "id": "a5e0a820-7fc1-4f57-9bac-613f0df02cca",
   "metadata": {},
   "outputs": [
    {
     "data": {
      "image/png": "[encoded data removed]",
      "text/plain": [
       "<Figure size 640x480 with 1 Axes>"
      ]
     },
     "metadata": {},
     "output_type": "display_data"
    }
   ],
   "source": [
    "cities= all_month_files['City'].unique()\n",
    "plt.bar(aa['City'],aa['Sales'])\n",
    "plt.xticks(cities,rotation ='vertical',size=8)\n",
    "plt.ylabel('Sales')\n",
    "plt.xlabel('Cities Name')\n",
    "plt.show()"
   ]
  },
  {
   "cell_type": "markdown",
   "id": "309d1ed2-8fd6-41b5-816a-0054ac91e1ce",
   "metadata": {},
   "source": [
    "#### San Francisco has the highest number of sales which is 8262203.91 US Dollars"
   ]
  },
  {
   "cell_type": "markdown",
   "id": "97ec47aa-3f7e-4984-ad5d-a614d04190a9",
   "metadata": {},
   "source": [
    "### Question 3: What time should we display advertisment to maximise likelihood of customer's buying product?"
   ]
  },
  {
   "cell_type": "code",
   "execution_count": 23,
   "id": "f2961321-ad7d-4928-84ac-1ce6155d04d4",
   "metadata": {},
   "outputs": [],
   "source": [
    "ax= all_month_files.groupby('Hour').count()"
   ]
  },
  {
   "cell_type": "code",
   "execution_count": 24,
   "id": "453b0a01-6002-414f-b06b-2ecfdc38b248",
   "metadata": {},
   "outputs": [
    {
     "data": {
      "image/png": "[encoded data removed]",
      "text/plain": [
       "<Figure size 640x480 with 1 Axes>"
      ]
     },
     "metadata": {},
     "output_type": "display_data"
    }
   ],
   "source": [
    "hour= range(0,24)\n",
    "plt.plot(ax)\n",
    "plt.xticks(hour)\n",
    "plt.rcParams[\"figure.figsize\"] = (8,4)\n",
    "plt.xlabel('Hours')\n",
    "plt.grid()\n",
    "plt.ylabel('No. of Orders')\n",
    "plt.show()"
   ]
  },
  {
   "cell_type": "markdown",
   "id": "2fd40684-e76c-457d-8292-168facd10aca",
   "metadata": {},
   "source": [
    "#### The best time to display advertisement are 11 am and 7 pm"
   ]
  },
  {
   "cell_type": "markdown",
   "id": "0cb65aba-eb68-418f-ad52-eac5620fa11a",
   "metadata": {},
   "source": [
    "\n",
    "### Question 4: What products are most often sold together?"
   ]
  },
  {
   "cell_type": "code",
   "execution_count": 25,
   "id": "45cdbdbc-9b3e-4a90-ac43-ce14720bb264",
   "metadata": {},
   "outputs": [
    {
     "data": {
      "text/html": [
       "<div>\n",
       "<style scoped>\n",
       "    .dataframe tbody tr th:only-of-type {\n",
       "        vertical-align: middle;\n",
       "    }\n",
       "\n",
       "    .dataframe tbody tr th {\n",
       "        vertical-align: top;\n",
       "    }\n",
       "\n",
       "    .dataframe thead th {\n",
       "        text-align: right;\n",
       "    }\n",
       "</style>\n",
       "<table border=\"1\" class=\"dataframe\">\n",
       "  <thead>\n",
       "    <tr style=\"text-align: right;\">\n",
       "      <th></th>\n",
       "      <th>Order ID</th>\n",
       "      <th>Grouped</th>\n",
       "    </tr>\n",
       "  </thead>\n",
       "  <tbody>\n",
       "    <tr>\n",
       "      <th>3</th>\n",
       "      <td>176560</td>\n",
       "      <td>Google Phone,Wired Headphones</td>\n",
       "    </tr>\n",
       "    <tr>\n",
       "      <th>18</th>\n",
       "      <td>176574</td>\n",
       "      <td>Google Phone,USB-C Charging Cable</td>\n",
       "    </tr>\n",
       "    <tr>\n",
       "      <th>30</th>\n",
       "      <td>176585</td>\n",
       "      <td>Bose SoundSport Headphones,Bose SoundSport Hea...</td>\n",
       "    </tr>\n",
       "    <tr>\n",
       "      <th>32</th>\n",
       "      <td>176586</td>\n",
       "      <td>AAA Batteries (4-pack),Google Phone</td>\n",
       "    </tr>\n",
       "    <tr>\n",
       "      <th>119</th>\n",
       "      <td>176672</td>\n",
       "      <td>Lightning Charging Cable,USB-C Charging Cable</td>\n",
       "    </tr>\n",
       "  </tbody>\n",
       "</table>\n",
       "</div>"
      ],
      "text/plain": [
       "    Order ID                                            Grouped\n",
       "3     176560                      Google Phone,Wired Headphones\n",
       "18    176574                  Google Phone,USB-C Charging Cable\n",
       "30    176585  Bose SoundSport Headphones,Bose SoundSport Hea...\n",
       "32    176586                AAA Batteries (4-pack),Google Phone\n",
       "119   176672      Lightning Charging Cable,USB-C Charging Cable"
      ]
     },
     "execution_count": 25,
     "metadata": {},
     "output_type": "execute_result"
    }
   ],
   "source": [
    "df = all_month_files[all_month_files['Order ID'].duplicated(keep=False)]\n",
    "df['Grouped'] = df.groupby('Order ID')['Product'].transform(lambda x: ','.join(x))\n",
    "df = df[['Order ID', 'Grouped']].drop_duplicates()\n",
    "df.head()"
   ]
  },
  {
   "cell_type": "code",
   "execution_count": 26,
   "id": "bb47b5e6-a33e-494e-8bcc-04b483557f6c",
   "metadata": {},
   "outputs": [],
   "source": [
    "from itertools import combinations\n",
    "from collections import Counter\n",
    "\n",
    "count= Counter()"
   ]
  },
  {
   "cell_type": "code",
   "execution_count": 27,
   "id": "491cd596-a43d-4ba9-8990-257ee66ecde3",
   "metadata": {},
   "outputs": [
    {
     "name": "stdout",
     "output_type": "stream",
     "text": [
      "('iPhone', 'Lightning Charging Cable') 1005\n",
      "('Google Phone', 'USB-C Charging Cable') 987\n",
      "('iPhone', 'Wired Headphones') 447\n",
      "('Google Phone', 'Wired Headphones') 414\n",
      "('Vareebadd Phone', 'USB-C Charging Cable') 361\n",
      "('iPhone', 'Apple Airpods Headphones') 360\n",
      "('Google Phone', 'Bose SoundSport Headphones') 220\n",
      "('USB-C Charging Cable', 'Wired Headphones') 160\n",
      "('Vareebadd Phone', 'Wired Headphones') 143\n",
      "('Lightning Charging Cable', 'Wired Headphones') 92\n"
     ]
    }
   ],
   "source": [
    "for i in df['Grouped']:\n",
    "    row_list= i.split(',')\n",
    "    count.update(Counter(combinations(row_list,2)))\n",
    "\n",
    "for k,v in count.most_common(10):\n",
    "    print(k,v)"
   ]
  },
  {
   "cell_type": "markdown",
   "id": "e1e550ee-0cd5-471b-bb29-b8009dc35396",
   "metadata": {},
   "source": [
    "#### These above prouducts are sold most often together"
   ]
  },
  {
   "cell_type": "markdown",
   "id": "8b65eea9-18cc-405c-8413-c887ab5d9a5c",
   "metadata": {},
   "source": [
    "### Question 5: What product sold the most? Why do you think it sold the most?"
   ]
  },
  {
   "cell_type": "code",
   "execution_count": 28,
   "id": "e043dddc-8861-4792-b847-1aa5caba6e06",
   "metadata": {},
   "outputs": [
    {
     "data": {
      "text/plain": [
       "[0    USB-C Charging Cable\n",
       " Name: Product, dtype: object]"
      ]
     },
     "execution_count": 28,
     "metadata": {},
     "output_type": "execute_result"
    }
   ],
   "source": [
    "[all_month_files['Product'].mode()]"
   ]
  },
  {
   "cell_type": "code",
   "execution_count": 29,
   "id": "87db5c51-6adc-4147-ae0a-37616bf039d1",
   "metadata": {},
   "outputs": [],
   "source": [
    "grouped_product= all_month_files.groupby('Product',as_index=False)['Quantity Ordered']"
   ]
  },
  {
   "cell_type": "code",
   "execution_count": 30,
   "id": "16b29e7a-9223-4a15-98b4-7da322a45e9f",
   "metadata": {},
   "outputs": [
    {
     "data": {
      "text/html": [
       "<div>\n",
       "<style scoped>\n",
       "    .dataframe tbody tr th:only-of-type {\n",
       "        vertical-align: middle;\n",
       "    }\n",
       "\n",
       "    .dataframe tbody tr th {\n",
       "        vertical-align: top;\n",
       "    }\n",
       "\n",
       "    .dataframe thead th {\n",
       "        text-align: right;\n",
       "    }\n",
       "</style>\n",
       "<table border=\"1\" class=\"dataframe\">\n",
       "  <thead>\n",
       "    <tr style=\"text-align: right;\">\n",
       "      <th></th>\n",
       "      <th>Product</th>\n",
       "      <th>Quantity Ordered</th>\n",
       "    </tr>\n",
       "  </thead>\n",
       "  <tbody>\n",
       "    <tr>\n",
       "      <th>0</th>\n",
       "      <td>20in Monitor</td>\n",
       "      <td>4129</td>\n",
       "    </tr>\n",
       "    <tr>\n",
       "      <th>1</th>\n",
       "      <td>27in 4K Gaming Monitor</td>\n",
       "      <td>6244</td>\n",
       "    </tr>\n",
       "    <tr>\n",
       "      <th>2</th>\n",
       "      <td>27in FHD Monitor</td>\n",
       "      <td>7550</td>\n",
       "    </tr>\n",
       "    <tr>\n",
       "      <th>3</th>\n",
       "      <td>34in Ultrawide Monitor</td>\n",
       "      <td>6199</td>\n",
       "    </tr>\n",
       "    <tr>\n",
       "      <th>4</th>\n",
       "      <td>AA Batteries (4-pack)</td>\n",
       "      <td>27635</td>\n",
       "    </tr>\n",
       "    <tr>\n",
       "      <th>5</th>\n",
       "      <td>AAA Batteries (4-pack)</td>\n",
       "      <td>31017</td>\n",
       "    </tr>\n",
       "    <tr>\n",
       "      <th>6</th>\n",
       "      <td>Apple Airpods Headphones</td>\n",
       "      <td>15661</td>\n",
       "    </tr>\n",
       "    <tr>\n",
       "      <th>7</th>\n",
       "      <td>Bose SoundSport Headphones</td>\n",
       "      <td>13457</td>\n",
       "    </tr>\n",
       "    <tr>\n",
       "      <th>8</th>\n",
       "      <td>Flatscreen TV</td>\n",
       "      <td>4819</td>\n",
       "    </tr>\n",
       "    <tr>\n",
       "      <th>9</th>\n",
       "      <td>Google Phone</td>\n",
       "      <td>5532</td>\n",
       "    </tr>\n",
       "    <tr>\n",
       "      <th>10</th>\n",
       "      <td>LG Dryer</td>\n",
       "      <td>646</td>\n",
       "    </tr>\n",
       "    <tr>\n",
       "      <th>11</th>\n",
       "      <td>LG Washing Machine</td>\n",
       "      <td>666</td>\n",
       "    </tr>\n",
       "    <tr>\n",
       "      <th>12</th>\n",
       "      <td>Lightning Charging Cable</td>\n",
       "      <td>23217</td>\n",
       "    </tr>\n",
       "    <tr>\n",
       "      <th>13</th>\n",
       "      <td>Macbook Pro Laptop</td>\n",
       "      <td>4728</td>\n",
       "    </tr>\n",
       "    <tr>\n",
       "      <th>14</th>\n",
       "      <td>ThinkPad Laptop</td>\n",
       "      <td>4130</td>\n",
       "    </tr>\n",
       "    <tr>\n",
       "      <th>15</th>\n",
       "      <td>USB-C Charging Cable</td>\n",
       "      <td>23975</td>\n",
       "    </tr>\n",
       "    <tr>\n",
       "      <th>16</th>\n",
       "      <td>Vareebadd Phone</td>\n",
       "      <td>2068</td>\n",
       "    </tr>\n",
       "    <tr>\n",
       "      <th>17</th>\n",
       "      <td>Wired Headphones</td>\n",
       "      <td>20557</td>\n",
       "    </tr>\n",
       "    <tr>\n",
       "      <th>18</th>\n",
       "      <td>iPhone</td>\n",
       "      <td>6849</td>\n",
       "    </tr>\n",
       "  </tbody>\n",
       "</table>\n",
       "</div>"
      ],
      "text/plain": [
       "                       Product  Quantity Ordered\n",
       "0                 20in Monitor              4129\n",
       "1       27in 4K Gaming Monitor              6244\n",
       "2             27in FHD Monitor              7550\n",
       "3       34in Ultrawide Monitor              6199\n",
       "4        AA Batteries (4-pack)             27635\n",
       "5       AAA Batteries (4-pack)             31017\n",
       "6     Apple Airpods Headphones             15661\n",
       "7   Bose SoundSport Headphones             13457\n",
       "8                Flatscreen TV              4819\n",
       "9                 Google Phone              5532\n",
       "10                    LG Dryer               646\n",
       "11          LG Washing Machine               666\n",
       "12    Lightning Charging Cable             23217\n",
       "13          Macbook Pro Laptop              4728\n",
       "14             ThinkPad Laptop              4130\n",
       "15        USB-C Charging Cable             23975\n",
       "16             Vareebadd Phone              2068\n",
       "17            Wired Headphones             20557\n",
       "18                      iPhone              6849"
      ]
     },
     "execution_count": 30,
     "metadata": {},
     "output_type": "execute_result"
    }
   ],
   "source": [
    "ax= grouped_product.sum()\n",
    "ax"
   ]
  },
  {
   "cell_type": "code",
   "execution_count": 31,
   "id": "053b9340-beba-4173-92e5-f47109133061",
   "metadata": {},
   "outputs": [
    {
     "data": {
      "image/png": "[encoded data removed]",
      "text/plain": [
       "<Figure size 800x400 with 1 Axes>"
      ]
     },
     "metadata": {},
     "output_type": "display_data"
    }
   ],
   "source": [
    "plt.bar(x='Product',height='Quantity Ordered',data=ax)\n",
    "plt.xticks(ax['Product'],rotation='vertical',size=8)\n",
    "plt.xlabel('Product Names')\n",
    "plt.ylabel('Quantity Ordered')\n",
    "plt.show()"
   ]
  },
  {
   "cell_type": "code",
   "execution_count": 32,
   "id": "fea42e8a-dfaa-4ed7-9927-6a07354898a2",
   "metadata": {},
   "outputs": [],
   "source": [
    "prices = all_month_files.groupby('Product',as_index=False)['Price Each'].mean()"
   ]
  },
  {
   "cell_type": "code",
   "execution_count": 33,
   "id": "0415cdcf-2d66-44a6-8928-236cc5924e4d",
   "metadata": {},
   "outputs": [
    {
     "data": {
      "image/png": "[encoded data removed]",
      "text/plain": [
       "<Figure size 800x400 with 2 Axes>"
      ]
     },
     "metadata": {},
     "output_type": "display_data"
    }
   ],
   "source": [
    "products = ax['Product']\n",
    "price_each = prices['Price Each']\n",
    "quantity = ax['Quantity Ordered']\n",
    "\n",
    "\n",
    "fig, ax1 = plt.subplots()\n",
    "\n",
    "ax2 = ax1.twinx()\n",
    "ax1.bar(products,quantity,color= 'g')\n",
    "ax2.plot(products,price_each, 'b-')\n",
    "\n",
    "\n",
    "ax1.set_xlabel('Products Name')\n",
    "ax1.set_ylabel('Quantity Ordered', color='g')\n",
    "ax2.set_ylabel('Prices ($)', color='b')\n",
    "ax1.set_xticklabels(products,rotation='vertical',size=8)\n",
    "plt.show()"
   ]
  },
  {
   "cell_type": "markdown",
   "id": "83d43d1b-7446-4d19-930c-e36246394ff2",
   "metadata": {},
   "source": [
    "#### The most sold products are AAA Batteries (4-pack) and AA Batteries (4-pack) . I think it sold the most beacuse they have the lowest price ."
   ]
  },
  {
   "cell_type": "code",
   "execution_count": null,
   "id": "d201a181-279f-49db-83cb-10615517a90d",
   "metadata": {},
   "outputs": [],
   "source": []
  }
 ],
 "metadata": {
  "kernelspec": {
   "display_name": "Python 3 (ipykernel)",
   "language": "python",
   "name": "python3"
  },
  "language_info": {
   "codemirror_mode": {
    "name": "ipython",
    "version": 3
   },
   "file_extension": ".py",
   "mimetype": "text/x-python",
   "name": "python",
   "nbconvert_exporter": "python",
   "pygments_lexer": "ipython3",
   "version": "3.11.7"
  }
 },
 "nbformat": 4,
 "nbformat_minor": 5
}
